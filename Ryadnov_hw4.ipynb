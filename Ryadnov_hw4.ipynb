{
 "cells": [
  {
   "cell_type": "markdown",
   "metadata": {},
   "source": [
    "### Алгоритмы интеллектуальной обработки больших объемов данных\n",
    "## Домашнее задание №4 - Градиентный бустинг\n"
   ]
  },
  {
   "cell_type": "markdown",
   "metadata": {},
   "source": [
    "**Общая информация**\n",
    "\n",
    "**Срок сдачи:** 10 мая 2021, 08:30   \n",
    "**Штраф за опоздание:** -2 балла после 08:30 10 мая, -4 балла после 08:30 17 мая, -6 баллов после 08:30 24 мая, -8 баллов после 08:30 31 мая.\n",
    "\n",
    "При отправлении ДЗ указывайте фамилию в названии файла Присылать ДЗ необходимо в виде ссылки на свой github репозиторий на почту ml1.sphere@mail.ru с указанием темы в следующем формате:\n",
    "[ML0221, Задание 4] Фамилия Имя. \n",
    "\n",
    "\n",
    "Используйте данный Ipython Notebook при оформлении домашнего задания."
   ]
  },
  {
   "cell_type": "markdown",
   "metadata": {},
   "source": [
    "##  Считаем производные для функций потерь (1 балл)"
   ]
  },
  {
   "cell_type": "markdown",
   "metadata": {},
   "source": [
    "Мы будем реализовать градиентный бустинг для 3 функций потерь:\n",
    "\n",
    "1) MSE  $L(a(x_i), y_i) = (y_i - a(x_i)) ^ 2$\n",
    "\n",
    "2) Экспоненциальная  $L(a(x_i), y_i) = exp( -a(x_i) y_i), y_i \\in \\{-1, 1\\}$\n",
    "\n",
    "3) Логистическая  $L(a(x_i), y_i) = \\log (1 + exp( -a(x_i) y_i)), y_i \\in \\{-1, 1\\}$\n",
    "\n",
    "где $a(x_i)$ предсказание бустинга на итом объекте. \n",
    "\n",
    "Для каждой функции потерь напишите таргет, на который будет настраиваться каждое дерево в бустинге. "
   ]
  },
  {
   "cell_type": "markdown",
   "metadata": {},
   "source": [
    "Ваше решение тут"
   ]
  },
  {
   "cell_type": "markdown",
   "metadata": {},
   "source": [
    "Общий вид таргетов:\n",
    "\\begin{equation}\n",
    "-\\dfrac{\\partial L}{\\partial F}(F_{k-1}(x_i), y_i)\n",
    "\\end{equation}"
   ]
  },
  {
   "cell_type": "markdown",
   "metadata": {},
   "source": [
    "Для MSE:\n",
    "\\begin{equation}\n",
    "-\\dfrac{\\partial L}{\\partial F}(F_{k-1}(x_i), y_i) = 2 \\cdot (y_i - F_{k-1})\n",
    "\\end{equation}\n",
    "Для экспоненциальной функции потерь:\n",
    "\\begin{equation}\n",
    "-\\dfrac{\\partial L}{\\partial F}(F_{k-1}(x_i), y_i) = y_i \\cdot exp( -F_{k-1} y_i)\n",
    "\\end{equation}\n",
    "Для логистической функции потерь:\n",
    "\\begin{equation}\n",
    "-\\dfrac{\\partial L}{\\partial F}(F_{k-1}(x_i), y_i) = \\dfrac{y_i \\cdot exp( -F_{k-1} y_i)}{1 + exp( -F_{k-1} y_i)}\n",
    " =  \\dfrac{y_i}{1 + \\exp(F_{k-1}y_i)}\n",
    " \\end{equation}"
   ]
  },
  {
   "cell_type": "markdown",
   "metadata": {},
   "source": [
    "##  Реализуем градиентный бустинг (3 балла)"
   ]
  },
  {
   "cell_type": "markdown",
   "metadata": {},
   "source": [
    "Реализуйте класс градиентного бустинга для классификации. Ваша реализация бустинга должна работать по точности не более чем на 5 процентов хуже чем GradientBoostingClassifier из sklearn. \n"
   ]
  },
  {
   "cell_type": "markdown",
   "metadata": {},
   "source": [
    "Детали реализации:\n",
    "\n",
    "-- должно поддерживаться 3 функции потерь\n",
    "\n",
    "-- сами базовые алгоритмы(деревья, линейные модели и тп) реализовать не надо, просто возьмите готовые из sklearn\n",
    "\n",
    "-- в качестве функции потерь для построения одного дерева используйте MSE\n",
    "\n",
    "-- шаг в бустинге можно не подбирать, можно брать константный\n",
    "\n",
    "-- можно брать разные модели в качестве инициализации бустинга\n",
    "\n",
    "-- должны поддерживаться следующие параметры:\n",
    "\n",
    "а) число итераций\n",
    "б) размер шага\n",
    "в) процент случайных фичей при построении одного дерева\n",
    "д) процент случайных объектов при построении одного дерева\n",
    "е) параметры базового алгоритма (передавайте через **kwargs)"
   ]
  },
  {
   "cell_type": "code",
   "execution_count": 2,
   "metadata": {},
   "outputs": [],
   "source": [
    "import numpy as np\n",
    "\n",
    "from sklearn.datasets import load_wine\n",
    "from sklearn.ensemble import GradientBoostingClassifier\n",
    "from sklearn.metrics import accuracy_score\n",
    "from sklearn.model_selection import train_test_split\n",
    "from sklearn.tree import DecisionTreeRegressor\n",
    "from sklearn.model_selection import KFold\n",
    "import matplotlib.pyplot as plt\n",
    "from tqdm import tqdm"
   ]
  },
  {
   "cell_type": "code",
   "execution_count": 3,
   "metadata": {},
   "outputs": [],
   "source": [
    "class MyGradientBoostingClassifier:\n",
    "\n",
    "    def __init__(self, loss = 'mse', learning_rate = 0.1, n_estimators = 35, \n",
    "                 colsample = 0.9, subsample = 0.9, *args, **kwargs):\n",
    "        \"\"\"\n",
    "        loss -- один из 3 лоссов:\n",
    "        learning_rate -- шаг бустинга\n",
    "        n_estimators -- число итераций\n",
    "        colsample -- процент рандомных признаков при обучнеии одного алгоритма\n",
    "        colsample -- процент рандомных объектов при обучнеии одного алгоритма\n",
    "        args, kwargs -- параметры  базовых моделей\n",
    "        \"\"\"\n",
    "        if loss == 'mse':\n",
    "            self.lossfunc ='mse'\n",
    "        elif loss == 'exp':\n",
    "            self.lossfunc = 'exp'\n",
    "        elif loss == 'log':\n",
    "            self.lossfunc = 'log'  \n",
    "        self.lrate = learning_rate\n",
    "        self.n_estimators = n_estimators\n",
    "        self.colsample = colsample\n",
    "        self.subsample = subsample\n",
    "        self.args = args\n",
    "        self.kwargs = kwargs\n",
    "        self.my_models = []\n",
    " \n",
    "    \n",
    "    def fit(self, X, y, base_model=DecisionTreeRegressor, init_model=None):\n",
    "        \"\"\"\n",
    "        X -- объекты для обучения:\n",
    "        y -- таргеты для обучения\n",
    "        base_model -- класс базовых моделей, например sklearn.tree.DecisionTreeRegressor\n",
    "        init_model -- класс для первой модели, если None то берем константу (только для посл задания)\n",
    "        \"\"\"\n",
    "        \n",
    "        \n",
    "        self.init_model = init_model\n",
    "        if init_model is None:\n",
    "            model = base_model(*self.args, **self.kwargs)\n",
    "            model.fit(X, y)\n",
    "            self.my_models.append(model)\n",
    "        elif init_model == 'SVM':\n",
    "            model = SVC()\n",
    "            model.fit(X, y)\n",
    "            self.my_models.append(model)\n",
    "        elif init_model == 'LinearRegression':\n",
    "            model = LinearRegression()\n",
    "            model.fit(X, y)\n",
    "            self.my_models.append(model)\n",
    "        elif init_model == 'RF':\n",
    "            model = RandomForestClassifier()\n",
    "            model.fit(X, y)\n",
    "            self.my_models.append(model)\n",
    "        \n",
    "        features_count = int(X.shape[1] * self.colsample ) \n",
    "        self.features = np.zeros( (self.n_estimators, features_count) , dtype = int)\n",
    "        sample_count = int( X.shape[0] * self.subsample )\n",
    "        for i in range (1, self.n_estimators):\n",
    "            model = base_model(*self.args, **self.kwargs)\n",
    "            sample = np.random.choice(X.shape[0], sample_count , replace=False)\n",
    "            self.features[i] = np.random.choice(X.shape[1], features_count, replace=False)           \n",
    "            X_train = X[sample]\n",
    "            prediction = self.predict(X_train)\n",
    "            y_train = np.zeros(y[sample].shape[0], dtype = int)\n",
    "            if self.lossfunc == 'mse':\n",
    "                y_train = 2 * (y[sample] - prediction )\n",
    "            elif self.lossfunc == 'exp':\n",
    "                y_train = y[sample] * np.exp(-prediction * y[sample])\n",
    "            elif self.lossfunc == 'log':\n",
    "                y_train = y[sample] / (1 + np.exp(prediction * y[sample]))\n",
    "            model.fit(X_train[:, self.features[i]], y_train)\n",
    "            self.my_models.append(model)\n",
    "          \n",
    "                    \n",
    "    def predict(self, X):\n",
    "        prediction = self.my_models[0].predict(X).astype(float)\n",
    "        for i in range(1, len(self.my_models)):\n",
    "            prediction += self.lrate * self.my_models[i].predict(X[:, self.features[i]]).astype(float)\n",
    "        if self.lossfunc == 'mse':\n",
    "            prediction = prediction.astype(int)\n",
    "        else:\n",
    "            prediction[prediction < 0] = -1\n",
    "            prediction[prediction >= 0] = 1\n",
    "        return prediction   "
   ]
  },
  {
   "cell_type": "code",
   "execution_count": 4,
   "metadata": {},
   "outputs": [],
   "source": [
    "my_clf = MyGradientBoostingClassifier(max_depth=5)\n",
    "clf = GradientBoostingClassifier(max_depth = 5)"
   ]
  },
  {
   "cell_type": "code",
   "execution_count": 5,
   "metadata": {},
   "outputs": [],
   "source": [
    "wine = load_wine()\n",
    "X_train, X_test, y_train, y_test = train_test_split(wine.data, wine.target, test_size=0.1, stratify=wine.target)"
   ]
  },
  {
   "cell_type": "code",
   "execution_count": 6,
   "metadata": {},
   "outputs": [
    {
     "name": "stdout",
     "output_type": "stream",
     "text": [
      "0.9444444444444444\n",
      "0.9444444444444444\n"
     ]
    }
   ],
   "source": [
    "my_clf.fit(X_train, y_train)\n",
    "clf.fit(X_train, y_train)\n",
    "print(accuracy_score(y_pred=clf.predict(X_test), y_true=y_test))\n",
    "print(accuracy_score(y_pred=my_clf.predict(X_test), y_true=y_test))"
   ]
  },
  {
   "cell_type": "markdown",
   "metadata": {},
   "source": [
    "Скор сравним с sklearn реализацией GradientBoostingClassifier\n",
    "Однако, для уверенности сделаю train_test_split и проверю скор ещё 25 раз"
   ]
  },
  {
   "cell_type": "code",
   "execution_count": 23,
   "metadata": {},
   "outputs": [
    {
     "name": "stderr",
     "output_type": "stream",
     "text": [
      "100%|██████████████████████████████████████████████████████████████████████████████████| 25/25 [00:01<00:00, 12.73it/s]\n"
     ]
    }
   ],
   "source": [
    "sklearn_scores = []\n",
    "scores = []\n",
    "for i in tqdm(range(25)):\n",
    "    X_train, X_test, y_train, y_test = train_test_split(wine.data, wine.target, test_size=0.1, stratify=wine.target)\n",
    "    my_clf = MyGradientBoostingClassifier(loss='mse', max_depth=5, n_estimators=35, learning_rate = 0.1)\n",
    "    my_clf.fit(X_train, y_train, base_model = DecisionTreeRegressor)\n",
    "    scores.append(accuracy_score(y_pred=my_clf.predict(X_test), y_true=y_test))    \n",
    "    sklrn_clf = DecisionTreeRegressor(max_depth=5)\n",
    "    sklrn_clf.fit(X_train, y_train)\n",
    "    sklearn_scores.append(accuracy_score(y_pred = clf.predict(X_test).astype(int),y_true = y_test))  "
   ]
  },
  {
   "cell_type": "markdown",
   "metadata": {},
   "source": [
    "Результат моей реализации:"
   ]
  },
  {
   "cell_type": "code",
   "execution_count": 24,
   "metadata": {},
   "outputs": [
    {
     "data": {
      "text/plain": [
       "0.9533333333333335"
      ]
     },
     "execution_count": 24,
     "metadata": {},
     "output_type": "execute_result"
    }
   ],
   "source": [
    "scores = np.array(scores)\n",
    "scores.mean()"
   ]
  },
  {
   "cell_type": "markdown",
   "metadata": {},
   "source": [
    "Результат реализации sklearn:"
   ]
  },
  {
   "cell_type": "code",
   "execution_count": 25,
   "metadata": {},
   "outputs": [
    {
     "data": {
      "text/plain": [
       "0.9933333333333334"
      ]
     },
     "execution_count": 25,
     "metadata": {},
     "output_type": "execute_result"
    }
   ],
   "source": [
    "sklearn_scores = np.array(sklearn_scores)\n",
    "sklearn_scores.mean()"
   ]
  },
  {
   "cell_type": "markdown",
   "metadata": {},
   "source": [
    "Как видно, моя реализация не уступает по качеству на таких тестировочных данных, как датасет с вином.\n",
    "Но пойдём дальше и рассмотрим датасет покрупнее"
   ]
  },
  {
   "cell_type": "markdown",
   "metadata": {},
   "source": [
    "## Подбираем параметры (2 балла)\n",
    "\n",
    "Давайте попробуем применить Ваш бустинг для предсказаний цены домов в Калифорнии. Чтобы можно было попробовтаь разные функции потерь, переведем по порогу таргет в 2 класса: дорогие и дешевые дома."
   ]
  },
  {
   "cell_type": "markdown",
   "metadata": {},
   "source": [
    "В задании нужно\n",
    "\n",
    "1) Построить график точности в зависимости от числа итераций на валидации.\n",
    "\n",
    "2) Подобрать оптимальные параметры Вашего бустинга на валидации. \n"
   ]
  },
  {
   "cell_type": "code",
   "execution_count": 26,
   "metadata": {},
   "outputs": [],
   "source": [
    "from sklearn.datasets import fetch_california_housing\n",
    "X, y = fetch_california_housing(return_X_y=True)"
   ]
  },
  {
   "cell_type": "code",
   "execution_count": 27,
   "metadata": {},
   "outputs": [
    {
     "name": "stdout",
     "output_type": "stream",
     "text": [
      "(20640, 8) (20640,)\n"
     ]
    }
   ],
   "source": [
    "# Превращаем регрессию в классификацию\n",
    "y = (y > 2.0).astype(int)\n",
    "print(X.shape, y.shape)"
   ]
  },
  {
   "cell_type": "markdown",
   "metadata": {},
   "source": [
    "Находим оптимальное число n_estimators для дальнейшего использования"
   ]
  },
  {
   "cell_type": "markdown",
   "metadata": {},
   "source": [
    "Я попытался для данного теста воспользоваться KFold и при помощи него произвести кросс-валидацию,\n",
    "помимо основного train_test_split\n",
    "\n",
    "Однако, производительность моего ноутбука и процессора просто не вытягивает такой тест\n",
    "и эту идею я оставил в данном случае"
   ]
  },
  {
   "cell_type": "code",
   "execution_count": 29,
   "metadata": {},
   "outputs": [
    {
     "name": "stderr",
     "output_type": "stream",
     "text": [
      "100%|██████████████████████████████████████████████████████████████████████████████████| 99/99 [06:32<00:00,  3.96s/it]\n"
     ]
    }
   ],
   "source": [
    "n_estimators = np.arange(1, 100, 1)\n",
    "scores = []\n",
    "X_train, X_test, y_train, y_test = train_test_split(X, y, test_size=0.1, stratify=y)\n",
    "\n",
    "for i in tqdm(range(99)):\n",
    "    my_clf = MyGradientBoostingClassifier(loss='mse', n_estimators = n_estimators[i], learning_rate=0.1, max_depth=3)\n",
    "    my_clf.fit(X_train, y_train, base_model=DecisionTreeRegressor)\n",
    "    scores.append(accuracy_score(y_pred=my_clf.predict(X_test), y_true=y_test))"
   ]
  },
  {
   "cell_type": "code",
   "execution_count": 30,
   "metadata": {},
   "outputs": [
    {
     "data": {
      "image/png": "[encoded data removed]",
      "text/plain": [
       "<Figure size 1008x504 with 1 Axes>"
      ]
     },
     "metadata": {
      "needs_background": "light"
     },
     "output_type": "display_data"
    }
   ],
   "source": [
    "scores = np.array(scores)\n",
    "fig  = plt.figure(figsize=(14, 7))\n",
    "ax = plt.subplot(111)\n",
    "plt.plot(n_estimators, scores)\n",
    "plt.title('Зависимость accuracy от n_estimators ', fontsize=10)\n",
    "ax.grid()\n",
    "ax.set_xlabel('n_estimators')\n",
    "ax.set_ylabel('Accuracy')\n",
    "plt.show()"
   ]
  },
  {
   "cell_type": "code",
   "execution_count": 31,
   "metadata": {},
   "outputs": [
    {
     "name": "stdout",
     "output_type": "stream",
     "text": [
      "[0.8561046511627907, 0.8541666666666666, 0.8541666666666666, 0.8527131782945736, 0.8527131782945736]\n"
     ]
    }
   ],
   "source": [
    "print(sorted(scores, reverse=True)[:5])"
   ]
  },
  {
   "cell_type": "code",
   "execution_count": 32,
   "metadata": {},
   "outputs": [
    {
     "data": {
      "text/plain": [
       "array([0.57800388, 0.69234496, 0.7495155 , 0.76841085, 0.77858527,\n",
       "       0.7747093 , 0.80232558, 0.79893411, 0.80184109, 0.81492248,\n",
       "       0.80329457, 0.81395349, 0.81395349, 0.82073643, 0.83866279,\n",
       "       0.82170543, 0.82412791, 0.83187984, 0.83672481, 0.82897287,\n",
       "       0.84496124, 0.83575581, 0.84108527, 0.83672481, 0.84544574,\n",
       "       0.83187984, 0.84447674, 0.83236434, 0.84302326, 0.84399225,\n",
       "       0.84205426, 0.8502907 , 0.84253876, 0.84641473, 0.83575581,\n",
       "       0.83963178, 0.84205426, 0.85416667, 0.83042636, 0.85077519,\n",
       "       0.83866279, 0.84399225, 0.85174419, 0.84205426, 0.84593023,\n",
       "       0.83963178, 0.8502907 , 0.84883721, 0.84496124, 0.84060078,\n",
       "       0.84302326, 0.83333333, 0.84593023, 0.84156977, 0.83866279,\n",
       "       0.84641473, 0.84302326, 0.84786822, 0.83478682, 0.84302326,\n",
       "       0.85125969, 0.8376938 , 0.83817829, 0.84932171, 0.83672481,\n",
       "       0.85222868, 0.83478682, 0.8376938 , 0.85174419, 0.84786822,\n",
       "       0.84399225, 0.85271318, 0.84447674, 0.85271318, 0.84932171,\n",
       "       0.84496124, 0.84496124, 0.83914729, 0.84447674, 0.84156977,\n",
       "       0.83527132, 0.83478682, 0.84835271, 0.84011628, 0.83963178,\n",
       "       0.83866279, 0.83624031, 0.85416667, 0.83575581, 0.84593023,\n",
       "       0.84302326, 0.84108527, 0.84205426, 0.85077519, 0.84593023,\n",
       "       0.84496124, 0.84011628, 0.84108527, 0.85610465])"
      ]
     },
     "execution_count": 32,
     "metadata": {},
     "output_type": "execute_result"
    }
   ],
   "source": [
    "scores"
   ]
  },
  {
   "cell_type": "markdown",
   "metadata": {},
   "source": [
    "Самые лучшие результаты -это когда n_estimators = 99, 89 и 39\n",
    "\n",
    "В силу того, что особо сильных отличий в скорах нет, возьму n_estimators для валидации = 39 и проведу\n",
    "дальнейшую валидацию, иначе при других чуть более оптимальных значениях считаться это всё будет прилично по времени.\n",
    "\n",
    "Возьму KFold валидацию по 5 фолдам на все оставшиеся параметры."
   ]
  },
  {
   "cell_type": "markdown",
   "metadata": {},
   "source": [
    "Итак, мы взяли n_estimators = 39. Теперь определим наилучший loss вместе с learning rate.\n",
    "Проведём эту валидацию одновременно"
   ]
  },
  {
   "cell_type": "code",
   "execution_count": 33,
   "metadata": {},
   "outputs": [
    {
     "name": "stderr",
     "output_type": "stream",
     "text": [
      "100%|██████████████████████████████████████████████████████████████████████████████████| 10/10 [01:45<00:00, 10.51s/it]\n"
     ]
    }
   ],
   "source": [
    "Folds = KFold(n_splits = 5)\n",
    "learning_rates = np.linspace(0.1, 1, 10)\n",
    "scores_mse = []\n",
    "res = 0\n",
    "for i in tqdm(range(10)):\n",
    "    for train_id , test_id in Folds.split(X):\n",
    "        X_train = X[train_id]\n",
    "        X_test  = X[test_id]\n",
    "        y_train = y[train_id]\n",
    "        y_test = y[test_id]\n",
    "        my_clf = MyGradientBoostingClassifier(loss='mse', learning_rate=learning_rates[i], max_depth=3, n_estimators=39)\n",
    "        my_clf.fit(X_train, y_train, base_model=DecisionTreeRegressor)\n",
    "        res += accuracy_score(y_pred=my_clf.predict(X_test), y_true=y_test)\n",
    "    res = res/5\n",
    "    scores_mse.append(res)\n",
    "    res = 0"
   ]
  },
  {
   "cell_type": "code",
   "execution_count": 34,
   "metadata": {},
   "outputs": [
    {
     "data": {
      "text/plain": [
       "[0.7984496124031006,\n",
       " 0.7952034883720931,\n",
       " 0.787451550387597,\n",
       " 0.7749031007751939,\n",
       " 0.7902131782945736,\n",
       " 0.7582364341085273,\n",
       " 0.7478682170542635,\n",
       " 0.7382267441860465,\n",
       " 0.7031976744186046,\n",
       " 0.6763565891472868]"
      ]
     },
     "execution_count": 34,
     "metadata": {},
     "output_type": "execute_result"
    }
   ],
   "source": [
    "scores_mse"
   ]
  },
  {
   "cell_type": "code",
   "execution_count": 35,
   "metadata": {},
   "outputs": [
    {
     "data": {
      "image/png": "[encoded data removed]",
      "text/plain": [
       "<Figure size 1008x504 with 1 Axes>"
      ]
     },
     "metadata": {
      "needs_background": "light"
     },
     "output_type": "display_data"
    }
   ],
   "source": [
    "scores_mse = np.array(scores_mse)\n",
    "fig  = plt.figure(figsize=(14, 7))\n",
    "ax = plt.subplot(111)\n",
    "plt.plot(learning_rates, scores_mse, label = 'mse')\n",
    "plt.title('Зависимость accuracy от learning_rate ', fontsize=10)\n",
    "ax.grid()\n",
    "ax.set_xlabel('learning_rate')\n",
    "ax.set_ylabel('Accuracy')\n",
    "plt.legend(fontsize=20)\n",
    "plt.show()"
   ]
  },
  {
   "cell_type": "markdown",
   "metadata": {},
   "source": [
    "Теперь для проверки экспоненциальной и логистической функции сделаем смену таргета классификации на (1,-1)"
   ]
  },
  {
   "cell_type": "code",
   "execution_count": 36,
   "metadata": {},
   "outputs": [],
   "source": [
    "y[y == 0] = -1"
   ]
  },
  {
   "cell_type": "code",
   "execution_count": 37,
   "metadata": {},
   "outputs": [
    {
     "name": "stderr",
     "output_type": "stream",
     "text": [
      "100%|██████████████████████████████████████████████████████████████████████████████████| 10/10 [00:53<00:00,  5.31s/it]\n"
     ]
    }
   ],
   "source": [
    "Folds = KFold(n_splits = 5)\n",
    "learning_rates = np.linspace(0.1, 1, 10)\n",
    "scores_exp = []\n",
    "res = 0\n",
    "for i in tqdm(range(10)):\n",
    "    for train_id , test_id in Folds.split(X):\n",
    "        X_train = X[train_id]\n",
    "        X_test  = X[test_id]\n",
    "        y_train = y[train_id]\n",
    "        y_test = y[test_id]\n",
    "        my_clf = MyGradientBoostingClassifier(loss='exp', learning_rate=learning_rates[i], max_depth=3, n_estimators=24)\n",
    "        my_clf.fit(X_train, y_train, base_model=DecisionTreeRegressor)\n",
    "        res += accuracy_score(y_pred=my_clf.predict(X_test), y_true=y_test)\n",
    "    res = res/5\n",
    "    scores_exp.append(res)\n",
    "    res = 0"
   ]
  },
  {
   "cell_type": "code",
   "execution_count": 38,
   "metadata": {},
   "outputs": [
    {
     "data": {
      "text/plain": [
       "[0.8168604651162792,\n",
       " 0.8150193798449612,\n",
       " 0.8157461240310078,\n",
       " 0.8281007751937984,\n",
       " 0.8272771317829457,\n",
       " 0.818701550387597,\n",
       " 0.8211240310077519,\n",
       " 0.8237403100775194,\n",
       " 0.8189922480620154,\n",
       " 0.8283914728682171]"
      ]
     },
     "execution_count": 38,
     "metadata": {},
     "output_type": "execute_result"
    }
   ],
   "source": [
    "scores_exp"
   ]
  },
  {
   "cell_type": "code",
   "execution_count": 39,
   "metadata": {},
   "outputs": [
    {
     "data": {
      "image/png": "[encoded data removed]",
      "text/plain": [
       "<Figure size 1008x504 with 1 Axes>"
      ]
     },
     "metadata": {
      "needs_background": "light"
     },
     "output_type": "display_data"
    }
   ],
   "source": [
    "scores_exp = np.array(scores_exp)\n",
    "fig  = plt.figure(figsize=(14, 7))\n",
    "ax = plt.subplot(111)\n",
    "plt.plot(learning_rates, scores_exp, label = 'exp')\n",
    "plt.title('Зависимость accuracy от learning_rate ', fontsize=10)\n",
    "ax.grid()\n",
    "ax.set_xlabel('learning_rate')\n",
    "ax.set_ylabel('Accuracy')\n",
    "plt.legend(fontsize=20)\n",
    "plt.show()"
   ]
  },
  {
   "cell_type": "code",
   "execution_count": 40,
   "metadata": {},
   "outputs": [
    {
     "name": "stderr",
     "output_type": "stream",
     "text": [
      "100%|██████████████████████████████████████████████████████████████████████████████████| 10/10 [01:43<00:00, 10.34s/it]\n"
     ]
    }
   ],
   "source": [
    "Folds = KFold(n_splits = 5)\n",
    "learning_rates = np.linspace(0.1, 1, 10)\n",
    "scores_log = []\n",
    "res = 0\n",
    "for i in tqdm(range(10)):\n",
    "    for train_id , test_id in Folds.split(X):\n",
    "        X_train = X[train_id]\n",
    "        X_test  = X[test_id]\n",
    "        y_train = y[train_id]\n",
    "        y_test = y[test_id]\n",
    "        my_clf = MyGradientBoostingClassifier(loss='log', learning_rate=learning_rates[i], max_depth=3, n_estimators=39)\n",
    "        my_clf.fit(X_train, y_train, base_model=DecisionTreeRegressor)\n",
    "        res += accuracy_score(y_pred=my_clf.predict(X_test), y_true=y_test)\n",
    "    res = res/5\n",
    "    scores_log.append(res)\n",
    "    res = 0"
   ]
  },
  {
   "cell_type": "code",
   "execution_count": 41,
   "metadata": {},
   "outputs": [
    {
     "data": {
      "text/plain": [
       "[0.8072189922480619,\n",
       " 0.8075096899224805,\n",
       " 0.8075581395348838,\n",
       " 0.811482558139535,\n",
       " 0.808187984496124,\n",
       " 0.8085755813953488,\n",
       " 0.8076065891472869,\n",
       " 0.8142926356589146,\n",
       " 0.7992248062015503,\n",
       " 0.8134205426356589]"
      ]
     },
     "execution_count": 41,
     "metadata": {},
     "output_type": "execute_result"
    }
   ],
   "source": [
    "scores_log"
   ]
  },
  {
   "cell_type": "code",
   "execution_count": 42,
   "metadata": {},
   "outputs": [
    {
     "data": {
      "image/png": "[encoded data removed]",
      "text/plain": [
       "<Figure size 1008x504 with 1 Axes>"
      ]
     },
     "metadata": {
      "needs_background": "light"
     },
     "output_type": "display_data"
    }
   ],
   "source": [
    "scores_log = np.array(scores_log)\n",
    "fig  = plt.figure(figsize=(14, 7))\n",
    "ax = plt.subplot(111)\n",
    "plt.plot(learning_rates, scores_log, label = 'log')\n",
    "plt.title('Зависимость accuracy от learning_rate ', fontsize=10)\n",
    "ax.grid()\n",
    "ax.set_xlabel('learning_rate')\n",
    "ax.set_ylabel('Accuracy')\n",
    "plt.legend(fontsize=20)\n",
    "plt.show()"
   ]
  },
  {
   "cell_type": "code",
   "execution_count": 43,
   "metadata": {},
   "outputs": [
    {
     "data": {
      "image/png": "[encoded data removed]",
      "text/plain": [
       "<Figure size 1008x504 with 1 Axes>"
      ]
     },
     "metadata": {
      "needs_background": "light"
     },
     "output_type": "display_data"
    }
   ],
   "source": [
    "fig  = plt.figure(figsize=(14, 7))\n",
    "ax = plt.subplot(111)\n",
    "plt.plot(learning_rates, scores_mse, label='mse')\n",
    "plt.plot(learning_rates, scores_exp, label='exp')\n",
    "plt.plot(learning_rates, scores_log, label='log')\n",
    "plt.title('Зависимость accuracy от learning_rate ', fontsize=10)\n",
    "ax.grid()\n",
    "ax.set_xlabel('learning_rate')\n",
    "ax.set_ylabel('Accuracy')\n",
    "plt.legend(fontsize=20)\n",
    "plt.show()"
   ]
  },
  {
   "cell_type": "markdown",
   "metadata": {},
   "source": [
    "Таким образом, возьмём экспоненциальный loss, а learning_rate = 0.4"
   ]
  },
  {
   "cell_type": "code",
   "execution_count": 44,
   "metadata": {},
   "outputs": [
    {
     "name": "stderr",
     "output_type": "stream",
     "text": [
      "100%|██████████████████████████████████████████████████████████████████████████████████| 14/14 [04:57<00:00, 21.22s/it]\n"
     ]
    }
   ],
   "source": [
    "depth = np.arange(1, 15)\n",
    "scores_depth = []\n",
    "res = 0\n",
    "Folds = KFold(n_splits = 5)\n",
    "for i in tqdm(range(14)):\n",
    "    for train_id , test_id in Folds.split(X):\n",
    "        X_train = X[train_id]\n",
    "        X_test  = X[test_id]\n",
    "        y_train = y[train_id]\n",
    "        y_test = y[test_id]\n",
    "        my_clf = MyGradientBoostingClassifier(loss='exp', learning_rate = 0.4, max_depth =  depth[i], n_estimators=39)\n",
    "        my_clf.fit(X_train, y_train, base_model=DecisionTreeRegressor)\n",
    "        res += accuracy_score(y_pred=my_clf.predict(X_test), y_true=y_test)\n",
    "    res = res/5\n",
    "    scores_depth.append(res)\n",
    "    res = 0"
   ]
  },
  {
   "cell_type": "code",
   "execution_count": 45,
   "metadata": {},
   "outputs": [
    {
     "data": {
      "text/plain": [
       "[0.7612403100775194,\n",
       " 0.8159883720930232,\n",
       " 0.8330910852713178,\n",
       " 0.8343507751937984,\n",
       " 0.8332848837209301,\n",
       " 0.8349806201550388,\n",
       " 0.8256782945736434,\n",
       " 0.8351259689922481,\n",
       " 0.8293120155038759,\n",
       " 0.8342054263565892,\n",
       " 0.8357558139534884,\n",
       " 0.8324127906976745,\n",
       " 0.836482558139535,\n",
       " 0.8320251937984496]"
      ]
     },
     "execution_count": 45,
     "metadata": {},
     "output_type": "execute_result"
    }
   ],
   "source": [
    "scores_depth"
   ]
  },
  {
   "cell_type": "code",
   "execution_count": 46,
   "metadata": {},
   "outputs": [
    {
     "data": {
      "image/png": "[encoded data removed]",
      "text/plain": [
       "<Figure size 1008x504 with 1 Axes>"
      ]
     },
     "metadata": {
      "needs_background": "light"
     },
     "output_type": "display_data"
    }
   ],
   "source": [
    "scores_depth = np.array(scores_depth)\n",
    "fig  = plt.figure(figsize=(14, 7))\n",
    "ax = plt.subplot(111)\n",
    "plt.plot(depth, scores_depth)\n",
    "plt.title('Зависимость accuracy от max_depth ', fontsize=10)\n",
    "ax.grid()\n",
    "ax.set_xlabel('max_depth')\n",
    "ax.set_ylabel('accuracy')\n",
    "plt.show()"
   ]
  },
  {
   "cell_type": "markdown",
   "metadata": {},
   "source": [
    "Как видно по полученному результату, самое оптимальное будет max_depth = 13.\n",
    "Я возьму max_depth = 8, он немного уступает в точности, однако я сомневаюсь, что при глубине = 13\n",
    "мой компьютер сможет это всё  посчитать, особенно в случаях, когда нужно будет использовать Random Forest"
   ]
  },
  {
   "cell_type": "markdown",
   "metadata": {},
   "source": [
    "Осталось провалидировать оптимальные subsample и colsample"
   ]
  },
  {
   "cell_type": "code",
   "execution_count": 47,
   "metadata": {},
   "outputs": [
    {
     "name": "stderr",
     "output_type": "stream",
     "text": [
      "  0%|                                                                                            | 0/4 [00:00<?, ?it/s]\n",
      "  0%|                                                                                            | 0/4 [00:00<?, ?it/s]\u001b[A\n",
      " 25%|█████████████████████                                                               | 1/4 [00:13<00:41, 13.69s/it]\u001b[A\n",
      " 50%|██████████████████████████████████████████                                          | 2/4 [00:28<00:28, 14.15s/it]\u001b[A\n",
      " 75%|███████████████████████████████████████████████████████████████                     | 3/4 [00:47<00:15, 15.52s/it]\u001b[A\n",
      "100%|████████████████████████████████████████████████████████████████████████████████████| 4/4 [01:08<00:00, 17.08s/it]\u001b[A\n",
      " 25%|█████████████████████                                                               | 1/4 [01:08<03:25, 68.34s/it]\n",
      "  0%|                                                                                            | 0/4 [00:00<?, ?it/s]\u001b[A\n",
      " 25%|█████████████████████                                                               | 1/4 [00:15<00:46, 15.41s/it]\u001b[A\n",
      " 50%|██████████████████████████████████████████                                          | 2/4 [00:33<00:32, 16.26s/it]\u001b[A\n",
      " 75%|███████████████████████████████████████████████████████████████                     | 3/4 [00:54<00:17, 17.67s/it]\u001b[A\n",
      "100%|████████████████████████████████████████████████████████████████████████████████████| 4/4 [01:17<00:00, 19.43s/it]\u001b[A\n",
      " 50%|██████████████████████████████████████████                                          | 2/4 [02:26<02:22, 71.16s/it]\n",
      "  0%|                                                                                            | 0/4 [00:00<?, ?it/s]\u001b[A\n",
      " 25%|█████████████████████                                                               | 1/4 [00:18<00:54, 18.06s/it]\u001b[A\n",
      " 50%|██████████████████████████████████████████                                          | 2/4 [00:35<00:35, 17.78s/it]\u001b[A\n",
      " 75%|███████████████████████████████████████████████████████████████                     | 3/4 [00:52<00:17, 17.66s/it]\u001b[A\n",
      "100%|████████████████████████████████████████████████████████████████████████████████████| 4/4 [01:12<00:00, 18.23s/it]\u001b[A\n",
      " 75%|███████████████████████████████████████████████████████████████                     | 3/4 [03:38<01:11, 71.69s/it]\n",
      "  0%|                                                                                            | 0/4 [00:00<?, ?it/s]\u001b[A\n",
      " 25%|█████████████████████                                                               | 1/4 [00:14<00:42, 14.33s/it]\u001b[A\n",
      " 50%|██████████████████████████████████████████                                          | 2/4 [00:30<00:29, 14.92s/it]\u001b[A\n",
      " 75%|███████████████████████████████████████████████████████████████                     | 3/4 [00:49<00:16, 16.08s/it]\u001b[A\n",
      "100%|████████████████████████████████████████████████████████████████████████████████████| 4/4 [01:12<00:00, 18.01s/it]\u001b[A\n",
      "100%|████████████████████████████████████████████████████████████████████████████████████| 4/4 [04:51<00:00, 72.76s/it]\n"
     ]
    }
   ],
   "source": [
    "subsample = [0.7, 0.8, 0.9, 1]\n",
    "colsample = [0.7, 0.8, 0.9, 1]\n",
    "colsubscores = []\n",
    "res = 0\n",
    "restuple = ()\n",
    "Folds = KFold(n_splits = 5)\n",
    "for col in tqdm(colsample):\n",
    "    for sub in tqdm(subsample):\n",
    "        for train_id , test_id in Folds.split(X):\n",
    "            X_train = X[train_id]\n",
    "            X_test  = X[test_id]\n",
    "            y_train = y[train_id]\n",
    "            y_test = y[test_id]\n",
    "            my_clf = MyGradientBoostingClassifier(loss='exp', learning_rate = 0.4, max_depth = 8,\n",
    "                                                   colsample = col, subsample = sub,n_estimators=39)\n",
    "            my_clf.fit(X_train, y_train, base_model=DecisionTreeRegressor)\n",
    "            res += accuracy_score(y_pred=my_clf.predict(X_test), y_true=y_test)\n",
    "        res = res/5\n",
    "        restuple = (col,sub,res)\n",
    "        colsubscores.append(restuple)\n",
    "        res = 0"
   ]
  },
  {
   "cell_type": "code",
   "execution_count": 48,
   "metadata": {},
   "outputs": [
    {
     "data": {
      "text/plain": [
       "[(0.7, 0.7, 0.8244670542635658),\n",
       " (0.7, 0.8, 0.8270348837209301),\n",
       " (0.7, 0.9, 0.8197189922480621),\n",
       " (0.7, 1, 0.8240794573643411),\n",
       " (0.8, 0.7, 0.8289244186046512),\n",
       " (0.8, 0.8, 0.8390503875968992),\n",
       " (0.8, 0.9, 0.8273255813953488),\n",
       " (0.8, 1, 0.830717054263566),\n",
       " (0.9, 0.7, 0.8376453488372093),\n",
       " (0.9, 0.8, 0.8356104651162791),\n",
       " (0.9, 0.9, 0.834205426356589),\n",
       " (0.9, 1, 0.8382751937984496),\n",
       " (1, 0.7, 0.832170542635659),\n",
       " (1, 0.8, 0.8340116279069768),\n",
       " (1, 0.9, 0.8359980620155039),\n",
       " (1, 1, 0.8299418604651162)]"
      ]
     },
     "execution_count": 48,
     "metadata": {},
     "output_type": "execute_result"
    }
   ],
   "source": [
    "colsubscores"
   ]
  },
  {
   "cell_type": "markdown",
   "metadata": {},
   "source": [
    "Итак, возьму colsample = 0.8 и subsample = 0.8 ( результат 0.8390503875968992 шестой строчки )"
   ]
  },
  {
   "cell_type": "markdown",
   "metadata": {},
   "source": [
    "Итоговый результат выйдет вот таким:"
   ]
  },
  {
   "cell_type": "code",
   "execution_count": 57,
   "metadata": {},
   "outputs": [
    {
     "data": {
      "text/plain": [
       "0.8253391472868217"
      ]
     },
     "execution_count": 57,
     "metadata": {},
     "output_type": "execute_result"
    }
   ],
   "source": [
    "my_clf = MyGradientBoostingClassifier(loss='exp', n_estimators=39, learning_rate=0.4, max_depth=8,\n",
    "                                      subsample=0.8, colsample=0.8)\n",
    "my_clf.fit(X_train, y_train, base_model=DecisionTreeRegressor)\n",
    "pred = my_clf.predict(X_test)\n",
    "accuracy_score(pred, y_test)"
   ]
  },
  {
   "cell_type": "markdown",
   "metadata": {},
   "source": [
    "Однако же, все эти параметры я настраивал на n_estimators=39, чтобы справиться с временем работы.\n",
    "Что, если при таких параметрах сделать ещё раз валидацию на n_estimators?\n",
    "И проверить score"
   ]
  },
  {
   "cell_type": "code",
   "execution_count": 58,
   "metadata": {},
   "outputs": [],
   "source": [
    "y[y == 0] = -1"
   ]
  },
  {
   "cell_type": "code",
   "execution_count": 63,
   "metadata": {},
   "outputs": [
    {
     "name": "stderr",
     "output_type": "stream",
     "text": [
      "100%|██████████████████████████████████████████████████████████████████████████████████| 99/99 [08:20<00:00,  5.05s/it]\n"
     ]
    }
   ],
   "source": [
    "n_estimators = np.arange(1, 100, 1)\n",
    "scores = []\n",
    "X_train, X_test, y_train, y_test = train_test_split(X, y, test_size=0.1, stratify=y)\n",
    "\n",
    "for i in tqdm(range(99)):\n",
    "    my_clf = MyGradientBoostingClassifier(loss='exp', n_estimators= n_estimators[i], learning_rate=0.4, max_depth=8,\n",
    "                                      subsample=0.8, colsample=0.8)\n",
    "    my_clf.fit(X_train, y_train, base_model=DecisionTreeRegressor)\n",
    "    scores.append(accuracy_score(y_pred=my_clf.predict(X_test), y_true=y_test))"
   ]
  },
  {
   "cell_type": "code",
   "execution_count": 64,
   "metadata": {},
   "outputs": [
    {
     "data": {
      "image/png": "[encoded data removed]",
      "text/plain": [
       "<Figure size 1008x504 with 1 Axes>"
      ]
     },
     "metadata": {
      "needs_background": "light"
     },
     "output_type": "display_data"
    }
   ],
   "source": [
    "scores = np.array(scores)\n",
    "fig  = plt.figure(figsize=(14, 7))\n",
    "ax = plt.subplot(111)\n",
    "plt.plot(n_estimators, scores)\n",
    "plt.title('Зависимость accuracy от n_estimators ', fontsize=10)\n",
    "ax.grid()\n",
    "ax.set_xlabel('n_estimators')\n",
    "ax.set_ylabel('Accuracy')\n",
    "plt.show()"
   ]
  },
  {
   "cell_type": "code",
   "execution_count": 67,
   "metadata": {},
   "outputs": [
    {
     "name": "stdout",
     "output_type": "stream",
     "text": [
      "[0.9050387596899225, 0.9026162790697675, 0.9011627906976745, 0.8997093023255814, 0.8992248062015504]\n"
     ]
    }
   ],
   "source": [
    "print(sorted(scores, reverse=True)[:5])"
   ]
  },
  {
   "cell_type": "code",
   "execution_count": 68,
   "metadata": {},
   "outputs": [
    {
     "data": {
      "text/plain": [
       "array([0.85707364, 0.8619186 , 0.87887597, 0.87596899, 0.87063953,\n",
       "       0.87209302, 0.8745155 , 0.88178295, 0.88226744, 0.88372093,\n",
       "       0.89147287, 0.88226744, 0.87839147, 0.88953488, 0.89098837,\n",
       "       0.89098837, 0.88129845, 0.89195736, 0.88614341, 0.89195736,\n",
       "       0.89195736, 0.88565891, 0.89534884, 0.88565891, 0.88662791,\n",
       "       0.88565891, 0.88953488, 0.89534884, 0.89001938, 0.89534884,\n",
       "       0.88856589, 0.89437984, 0.89098837, 0.88420543, 0.8997093 ,\n",
       "       0.89631783, 0.89050388, 0.88856589, 0.89437984, 0.89244186,\n",
       "       0.89098837, 0.89244186, 0.89728682, 0.89001938, 0.89147287,\n",
       "       0.89389535, 0.89777132, 0.89631783, 0.89728682, 0.89195736,\n",
       "       0.90503876, 0.89922481, 0.89389535, 0.89437984, 0.90116279,\n",
       "       0.89195736, 0.88905039, 0.89389535, 0.89292636, 0.89874031,\n",
       "       0.89583333, 0.89922481, 0.89147287, 0.89534884, 0.89292636,\n",
       "       0.89001938, 0.89825581, 0.89098837, 0.89147287, 0.89389535,\n",
       "       0.89486434, 0.89728682, 0.89728682, 0.89292636, 0.89680233,\n",
       "       0.89147287, 0.88905039, 0.89389535, 0.90261628, 0.89195736,\n",
       "       0.89534884, 0.89050388, 0.89098837, 0.89389535, 0.88953488,\n",
       "       0.89631783, 0.89874031, 0.88905039, 0.89389535, 0.89777132,\n",
       "       0.89922481, 0.89098837, 0.88565891, 0.89825581, 0.89631783,\n",
       "       0.89825581, 0.89147287, 0.89437984, 0.89825581])"
      ]
     },
     "execution_count": 68,
     "metadata": {},
     "output_type": "execute_result"
    }
   ],
   "source": [
    "scores"
   ]
  },
  {
   "cell_type": "code",
   "execution_count": 69,
   "metadata": {},
   "outputs": [
    {
     "data": {
      "text/plain": [
       "0.9050387596899225"
      ]
     },
     "execution_count": 69,
     "metadata": {},
     "output_type": "execute_result"
    }
   ],
   "source": [
    "scores = np.array(scores)\n",
    "np.max(scores)"
   ]
  },
  {
   "cell_type": "code",
   "execution_count": 70,
   "metadata": {},
   "outputs": [
    {
     "data": {
      "text/plain": [
       "50"
      ]
     },
     "execution_count": 70,
     "metadata": {},
     "output_type": "execute_result"
    }
   ],
   "source": [
    "np.argmax(scores)"
   ]
  },
  {
   "cell_type": "markdown",
   "metadata": {},
   "source": [
    "Таким образом, при таких параметрах наиболее оптимальным будет n_estimators = 51\n",
    "\n",
    "Итоговая реализация и скор выглядят так :"
   ]
  },
  {
   "cell_type": "code",
   "execution_count": 73,
   "metadata": {},
   "outputs": [
    {
     "data": {
      "text/plain": [
       "0.8900193798449613"
      ]
     },
     "execution_count": 73,
     "metadata": {},
     "output_type": "execute_result"
    }
   ],
   "source": [
    "my_clf = MyGradientBoostingClassifier(loss='exp', n_estimators=51, learning_rate=0.4, max_depth=8,\n",
    "                                      subsample=0.8, colsample=0.8)\n",
    "my_clf.fit(X_train, y_train, base_model=DecisionTreeRegressor)\n",
    "pred = my_clf.predict(X_test)\n",
    "accuracy_score(pred, y_test)"
   ]
  },
  {
   "cell_type": "markdown",
   "metadata": {},
   "source": [
    "## BooBag BagBoo (1 балл)\n",
    "\n"
   ]
  },
  {
   "cell_type": "markdown",
   "metadata": {},
   "source": [
    "Попробуем объединить бустинг и бэгинг. Давайте\n",
    "\n",
    "1) в качестве базовой модели брать не дерево решений, а случайный лес (из sklearn)\n",
    "\n",
    "2) обучать N бустингов на бустрапированной выборке, а затем предикт усреднять"
   ]
  },
  {
   "cell_type": "markdown",
   "metadata": {},
   "source": [
    "Попробуйте обе этих стратегии на данных из прошлого задания. Получилось ли улучшить качество? Почему?"
   ]
  },
  {
   "cell_type": "code",
   "execution_count": 74,
   "metadata": {},
   "outputs": [],
   "source": [
    "from sklearn.linear_model import LogisticRegression,LinearRegression\n",
    "from sklearn.ensemble import RandomForestRegressor, RandomForestClassifier\n",
    "from sklearn.svm import SVC"
   ]
  },
  {
   "cell_type": "code",
   "execution_count": 75,
   "metadata": {},
   "outputs": [
    {
     "name": "stdout",
     "output_type": "stream",
     "text": [
      "(20640, 8) (20640,)\n"
     ]
    }
   ],
   "source": [
    "from sklearn.datasets import fetch_california_housing\n",
    "X, y = fetch_california_housing(return_X_y=True)\n",
    "y = (y > 2.0).astype(int)\n",
    "print(X.shape, y.shape)\n",
    "y[y == 0] = -1"
   ]
  },
  {
   "cell_type": "markdown",
   "metadata": {},
   "source": [
    "Стратегия №1 - base_model = RF"
   ]
  },
  {
   "cell_type": "code",
   "execution_count": 76,
   "metadata": {},
   "outputs": [
    {
     "data": {
      "text/plain": [
       "0.9021317829457365"
      ]
     },
     "execution_count": 76,
     "metadata": {},
     "output_type": "execute_result"
    }
   ],
   "source": [
    "my_clf = MyGradientBoostingClassifier(loss='exp', n_estimators=51, learning_rate=0.4, max_depth=8,\n",
    "                                      subsample=0.8, colsample=0.8)\n",
    "my_clf.fit(X_train, y_train, base_model=RandomForestRegressor)\n",
    "pred = my_clf.predict(X_test)\n",
    "accuracy_score(pred, y_test)"
   ]
  },
  {
   "cell_type": "markdown",
   "metadata": {},
   "source": [
    "Как ни странно, данная стратегия дала профит и увеличила наш скор.\n",
    "\n",
    "Хотя по хорошему, мы и производим бустинг для того, чтобы избавиться от независимости моделей,\n",
    "ведь при бустинге у нас каждая новая модель учится на ошибках предыдущих.\n",
    "\n",
    "Тем не менее - скор стал выше"
   ]
  },
  {
   "cell_type": "markdown",
   "metadata": {},
   "source": [
    "Стратегия №2 - N бустингов"
   ]
  },
  {
   "cell_type": "code",
   "execution_count": 72,
   "metadata": {},
   "outputs": [
    {
     "data": {
      "text/plain": [
       "0.8958333333333334"
      ]
     },
     "execution_count": 72,
     "metadata": {},
     "output_type": "execute_result"
    }
   ],
   "source": [
    "subsample = 0.8\n",
    "colsample = 0.8\n",
    "Num_of_trees = 10\n",
    "res = 0\n",
    "prediction = np.zeros(y_test.shape[0])\n",
    "\n",
    "features_count = int(X_train.shape[1] * colsample) \n",
    "sample_count = int( X_train.shape[0] * subsample)\n",
    "\n",
    "for i in tqdm(range(10)):\n",
    "    sample = np.random.choice(X_train.shape[0], sample_count, replace=False)\n",
    "    features = np.random.choice(X_train.shape[1], features_count, replace=False)\n",
    "    my_clf = MyGradientBoostingClassifier(loss='exp', n_estimators=51, learning_rate=0.4, max_depth=8)\n",
    "    my_clf.fit(X_train[sample][:, features], y_train[sample], base_model=DecisionTreeRegressor)\n",
    "    res = my_clf.predict(X_test[:, features])\n",
    "    prediction += res\n",
    "    \n",
    "prediction = (prediction / 10)\n",
    "prediction[prediction < 0] = -1\n",
    "prediction[prediction >= 0] = 1\n",
    "accuracy_score(prediction, y_test)"
   ]
  },
  {
   "cell_type": "markdown",
   "metadata": {},
   "source": [
    "Скор также стал выше, ведь много моделей голосованием дают лучшее качество, чем одна большая модель"
   ]
  },
  {
   "cell_type": "markdown",
   "metadata": {
    "collapsed": true
   },
   "source": [
    "## Умная инициализация (1 балл)\n",
    "\n",
    "Попробуйте брать в качестве инициализации бустинга не константу, а какой-то алгоритм и уже от его предикта стартовать итерации бустинга. Попробуйте разные модели из sklearn: линейные модели, рандом форест, svm..\n",
    "\n",
    "Получилось ли улучшить качество? Почему?\n",
    "\n"
   ]
  },
  {
   "cell_type": "code",
   "execution_count": null,
   "metadata": {},
   "outputs": [],
   "source": [
    "my_clf = MyGradientBoostingClassifier(loss='exp', n_estimators=51, learning_rate=0.4, max_depth=8,\n",
    "                                      subsample=0.8, colsample=0.8)"
   ]
  },
  {
   "cell_type": "code",
   "execution_count": 80,
   "metadata": {},
   "outputs": [],
   "source": [
    "from sklearn.linear_model import LogisticRegression,LinearRegression\n",
    "from sklearn.ensemble import RandomForestRegressor, RandomForestClassifier\n",
    "from sklearn.svm import SVC"
   ]
  },
  {
   "cell_type": "code",
   "execution_count": 81,
   "metadata": {},
   "outputs": [],
   "source": [
    "y[y == 0] = -1"
   ]
  },
  {
   "cell_type": "code",
   "execution_count": 82,
   "metadata": {},
   "outputs": [
    {
     "data": {
      "text/plain": [
       "0.8846899224806202"
      ]
     },
     "execution_count": 82,
     "metadata": {},
     "output_type": "execute_result"
    }
   ],
   "source": [
    "X_train, X_test, y_train, y_test = train_test_split(X, y, test_size=0.1, stratify=y)\n",
    "clf = MyGradientBoostingClassifier(loss ='exp', \n",
    "                                   n_estimators=51, \n",
    "                                   learning_rate=0.4,\n",
    "                                   max_depth= 8,\n",
    "                                   colsample=0.8,\n",
    "                                   subsample= 0.8)\n",
    "clf.fit(X_train, y_train, base_model =DecisionTreeRegressor, init_model = 'LinearRegression')\n",
    "y_pred = clf.predict(X_test)\n",
    "accuracy_score(y_pred, y_test)"
   ]
  },
  {
   "cell_type": "markdown",
   "metadata": {},
   "source": [
    "Как мы видим, линейная регрессия даёт примерно такой же скор.\n",
    "\n",
    "Хотя, если задуматься, ведь довольно-таки удобно использовать в качестве начальной модели именно линейную регрессию"
   ]
  },
  {
   "cell_type": "code",
   "execution_count": 83,
   "metadata": {},
   "outputs": [
    {
     "data": {
      "text/plain": [
       "0.8895348837209303"
      ]
     },
     "execution_count": 83,
     "metadata": {},
     "output_type": "execute_result"
    }
   ],
   "source": [
    "X_train, X_test, y_train, y_test = train_test_split(X, y, test_size=0.1, stratify=y)\n",
    "clf = MyGradientBoostingClassifier(loss ='exp', \n",
    "                                   n_estimators=51, \n",
    "                                   learning_rate=0.4,\n",
    "                                   max_depth= 8,\n",
    "                                   colsample=0.8,\n",
    "                                   subsample= 0.8)\n",
    "clf.fit(X_train, y_train, base_model =DecisionTreeRegressor, init_model = 'SVM')\n",
    "y_pred = clf.predict(X_test)\n",
    "accuracy_score(y_pred, y_test)"
   ]
  },
  {
   "cell_type": "markdown",
   "metadata": {},
   "source": [
    "SVM даёт не самую лучшую точность, да ещё и  довольно долго работает"
   ]
  },
  {
   "cell_type": "code",
   "execution_count": null,
   "metadata": {},
   "outputs": [],
   "source": []
  },
  {
   "cell_type": "code",
   "execution_count": 84,
   "metadata": {},
   "outputs": [
    {
     "data": {
      "text/plain": [
       "0.8827519379844961"
      ]
     },
     "execution_count": 84,
     "metadata": {},
     "output_type": "execute_result"
    }
   ],
   "source": [
    "X_train, X_test, y_train, y_test = train_test_split(X, y, test_size=0.1, stratify=y)\n",
    "clf = MyGradientBoostingClassifier(loss ='exp', \n",
    "                                   n_estimators=51, \n",
    "                                   learning_rate=0.4,\n",
    "                                   max_depth= 8,\n",
    "                                   colsample=0.8,\n",
    "                                   subsample= 0.8)\n",
    "clf.fit(X_train, y_train, base_model =DecisionTreeRegressor, init_model = 'RF')\n",
    "y_pred = clf.predict(X_test)\n",
    "accuracy_score(y_pred, y_test)"
   ]
  },
  {
   "cell_type": "markdown",
   "metadata": {},
   "source": [
    "Random Forest неплох, работает недолго, но он практически равносилен предыдущим стратегиям BagBoo или BooBag"
   ]
  },
  {
   "cell_type": "code",
   "execution_count": null,
   "metadata": {},
   "outputs": [],
   "source": []
  },
  {
   "cell_type": "code",
   "execution_count": null,
   "metadata": {},
   "outputs": [],
   "source": []
  },
  {
   "cell_type": "markdown",
   "metadata": {},
   "source": [
    "## Фидбек (бесценно)"
   ]
  },
  {
   "cell_type": "markdown",
   "metadata": {},
   "source": [
    "* Какие аспекты обучения  ансамблей Вам показались непонятными? Какое место стоит дополнительно объяснить?"
   ]
  },
  {
   "cell_type": "markdown",
   "metadata": {},
   "source": [
    "### Ваш ответ здесь"
   ]
  },
  {
   "cell_type": "markdown",
   "metadata": {},
   "source": [
    "* Здесь Вы можете оставить отзыв о этой домашней работе или о всем курсе."
   ]
  },
  {
   "cell_type": "markdown",
   "metadata": {},
   "source": [
    "### ВАШ ОТЗЫВ ЗДЕСЬ\n",
    "\n"
   ]
  },
  {
   "cell_type": "markdown",
   "metadata": {
    "collapsed": true
   },
   "source": [
    "Приятная домашка.\n",
    "\n",
    "В отличие от предыдущей на деревья эта доставила намного больше удовольствия"
   ]
  },
  {
   "cell_type": "code",
   "execution_count": null,
   "metadata": {
    "collapsed": true
   },
   "outputs": [],
   "source": []
  }
 ],
 "metadata": {
  "anaconda-cloud": {},
  "kernelspec": {
   "display_name": "Python 3",
   "language": "python",
   "name": "python3"
  },
  "language_info": {
   "codemirror_mode": {
    "name": "ipython",
    "version": 3
   },
   "file_extension": ".py",
   "mimetype": "text/x-python",
   "name": "python",
   "nbconvert_exporter": "python",
   "pygments_lexer": "ipython3",
   "version": "3.8.3"
  }
 },
 "nbformat": 4,
 "nbformat_minor": 2
}
